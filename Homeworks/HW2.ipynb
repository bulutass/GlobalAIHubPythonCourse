{
 "cells": [
  {
   "cell_type": "code",
   "execution_count": 2,
   "metadata": {},
   "outputs": [
    {
     "name": "stdout",
     "output_type": "stream",
     "text": [
      "       Name     Surname  Age                       e-mail  \\\n",
      "0     Harry      Potter   41        harrypotter@gmail.com   \n",
      "1  Hermione     Granger   42    hermionegranger@gmail.com   \n",
      "2    Ronald     Weasley   41      ronaldweasley@gmail.com   \n",
      "3   Neville  Longbottom   41  nevillelongbottom@gmail.com   \n",
      "4      Luna    Lovegood   40       lunalovegood@gmail.com   \n",
      "\n",
      "                                          Occupation  \n",
      "0  Head of the Department of Magical Law Enforcement  \n",
      "1                                  Minister of Magic  \n",
      "2                                         Co-manager  \n",
      "3                             Professor of Herbology  \n",
      "4                                      Magizoologist  \n"
     ]
    }
   ],
   "source": [
    "#CV Application\n",
    "\n",
    "#Used pandas library to create table version of the dictionaries\n",
    "#Created 5 diffirent dictionaries. Keys are name, surname, age, email and occupation. \n",
    "\n",
    "\n",
    "import pandas as pd\n",
    "\n",
    "CV1 = {\"Name\": \"Harry\", \"Surname\": \"Potter\", \"Age\": 41, \"e-mail\": \"harrypotter@gmail.com\", \"Occupation\": \"Head of the Department of Magical Law Enforcement\"}\n",
    "CV2 = {\"Name\": \"Hermione\", \"Surname\": \"Granger\", \"Age\": 42, \"e-mail\": \"hermionegranger@gmail.com\", \"Occupation\": \"Minister of Magic\"}\n",
    "CV3 = {\"Name\": \"Ronald\", \"Surname\": \"Weasley\", \"Age\": 41, \"e-mail\": \"ronaldweasley@gmail.com\", \"Occupation\": \"Co-manager\"}\n",
    "CV4 = {\"Name\": \"Neville\", \"Surname\": \"Longbottom\", \"Age\": 41, \"e-mail\": \"nevillelongbottom@gmail.com\", \"Occupation\": \"Professor of Herbology\"}\n",
    "CV5 = {\"Name\": \"Luna\", \"Surname\": \"Lovegood\", \"Age\": 40, \"e-mail\": \"lunalovegood@gmail.com\", \"Occupation\": \"Magizoologist\"}\n",
    "\n",
    "\n",
    "\n",
    "CV_list = [CV1,CV2,CV3,CV4,CV5] #Created a list that contain all CV dictionaries\n",
    "\n",
    "table = pd.DataFrame(CV_list) #used DataFrame constructor of pandas library\n",
    "\n",
    "print(table)\n",
    "\n"
   ]
  },
  {
   "cell_type": "code",
   "execution_count": null,
   "metadata": {},
   "outputs": [],
   "source": []
  }
 ],
 "metadata": {
  "kernelspec": {
   "display_name": "Python 3",
   "language": "python",
   "name": "python3"
  },
  "language_info": {
   "codemirror_mode": {
    "name": "ipython",
    "version": 3
   },
   "file_extension": ".py",
   "mimetype": "text/x-python",
   "name": "python",
   "nbconvert_exporter": "python",
   "pygments_lexer": "ipython3",
   "version": "3.8.5"
  }
 },
 "nbformat": 4,
 "nbformat_minor": 4
}
